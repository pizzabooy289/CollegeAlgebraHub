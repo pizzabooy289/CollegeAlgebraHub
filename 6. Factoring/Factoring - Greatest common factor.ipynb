{
 "cells": [
  {
   "cell_type": "code",
   "execution_count": 10,
   "metadata": {
    "collapsed": false
   },
   "outputs": [],
   "source": [
    "import sympy as sp\n",
    "sp.init_printing()\n",
    "from sympy import *"
   ]
  },
  {
   "cell_type": "markdown",
   "metadata": {},
   "source": [
    "# Factoring - Greatest common factor"
   ]
  },
  {
   "cell_type": "code",
   "execution_count": 11,
   "metadata": {
    "collapsed": false
   },
   "outputs": [
    {
     "name": "stdout",
     "output_type": "stream",
     "text": [
      "   3        2  2        \n",
      "2⋅x ⋅y + 4⋅x ⋅y  + 8⋅x⋅y\n"
     ]
    }
   ],
   "source": [
    "x,y = symbols(\"x,y\")\n",
    "\n",
    "\n",
    "eq1 = 2*x**3*y +4*x**2*y**2 +8*x*y\n",
    "\n",
    "pprint(eq1)"
   ]
  },
  {
   "cell_type": "code",
   "execution_count": 12,
   "metadata": {
    "collapsed": false
   },
   "outputs": [
    {
     "data": {
      "image/png": "[encoded data removed]",
      "text/latex": [
       "$$2 x y \\left(x^{2} + 2 x y + 4\\right)$$"
      ],
      "text/plain": [
       "      ⎛ 2            ⎞\n",
       "2⋅x⋅y⋅⎝x  + 2⋅x⋅y + 4⎠"
      ]
     },
     "execution_count": 12,
     "metadata": {},
     "output_type": "execute_result"
    }
   ],
   "source": [
    "factor(eq1)"
   ]
  },
  {
   "cell_type": "code",
   "execution_count": 13,
   "metadata": {
    "collapsed": false
   },
   "outputs": [
    {
     "name": "stdout",
     "output_type": "stream",
     "text": [
      "     3      2       \n",
      "- 3⋅x  - 6⋅x  + 72⋅x\n"
     ]
    }
   ],
   "source": [
    "x = symbols(\"x\")\n",
    "\n",
    "\n",
    "eq2 = -3*x **3 -6*x**2 + 72 * x\n",
    "\n",
    "pprint(eq2)"
   ]
  },
  {
   "cell_type": "code",
   "execution_count": 14,
   "metadata": {
    "collapsed": false
   },
   "outputs": [
    {
     "data": {
      "image/png": "[encoded data removed]",
      "text/latex": [
       "$$- 3 x \\left(x - 4\\right) \\left(x + 6\\right)$$"
      ],
      "text/plain": [
       "-3⋅x⋅(x - 4)⋅(x + 6)"
      ]
     },
     "execution_count": 14,
     "metadata": {},
     "output_type": "execute_result"
    }
   ],
   "source": [
    "factor(eq2)"
   ]
  },
  {
   "cell_type": "code",
   "execution_count": 15,
   "metadata": {
    "collapsed": false
   },
   "outputs": [
    {
     "name": "stdout",
     "output_type": "stream",
     "text": [
      "     3        2         \n",
      "4⋅b⋅x  - 4⋅b⋅x  - 80⋅b⋅x\n"
     ]
    }
   ],
   "source": [
    "x,b = symbols(\"x,b\")\n",
    "\n",
    "\n",
    "eq3 = 4*b*x**3 -4*b*x**2 -80*b*x\n",
    "\n",
    "pprint(eq3)"
   ]
  },
  {
   "cell_type": "code",
   "execution_count": 9,
   "metadata": {
    "collapsed": false
   },
   "outputs": [
    {
     "data": {
      "text/plain": [
       "4*b*x*(x - 5)*(x + 4)"
      ]
     },
     "execution_count": 9,
     "metadata": {},
     "output_type": "execute_result"
    }
   ],
   "source": [
    "factor(eq3)"
   ]
  },
  {
   "cell_type": "code",
   "execution_count": null,
   "metadata": {
    "collapsed": true
   },
   "outputs": [],
   "source": []
  }
 ],
 "metadata": {
  "anaconda-cloud": {},
  "kernelspec": {
   "display_name": "Python [default]",
   "language": "python",
   "name": "python3"
  },
  "language_info": {
   "codemirror_mode": {
    "name": "ipython",
    "version": 3
   },
   "file_extension": ".py",
   "mimetype": "text/x-python",
   "name": "python",
   "nbconvert_exporter": "python",
   "pygments_lexer": "ipython3",
   "version": "3.5.2"
  }
 },
 "nbformat": 4,
 "nbformat_minor": 1
}
